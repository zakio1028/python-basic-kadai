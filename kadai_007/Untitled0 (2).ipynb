{
  "nbformat": 4,
  "nbformat_minor": 0,
  "metadata": {
    "colab": {
      "provenance": []
    },
    "kernelspec": {
      "name": "python3",
      "display_name": "Python 3"
    },
    "language_info": {
      "name": "python"
    }
  },
  "cells": [
    {
      "cell_type": "code",
      "source": [
        "#arrayリストの初期化\n",
        "array = [\"月曜日は晴れです\", \"火曜日は雨です\", \"水曜日は晴れです\", \"木曜日は晴れです\", \"金曜日は曇りです\", \"土曜日は曇りのち雨です\", \"日曜日は雷雨です\"]\n",
        "#arrayリストのインデックス１の文字列を出力する。\n",
        "print(array[2])\n",
        "\n",
        "#arrayリストを全表示\n",
        "print(array)\n",
        "\n",
        "#array[6]を削除\n",
        "array.pop(6)\n",
        "\n",
        "#arrayリストを全表示\n",
        "print(array)\n",
        "\n",
        "#arrayに\"日曜日は雷雨です\"を追加\n",
        "array.append(\"日曜日は雷雨です\")\n",
        "\n",
        "#arrayリストを全表示\n",
        "print(array)\n",
        "\n",
        "#array[0]の文字列を更新\n",
        "array[0]= \"月曜日は雨です\"\n",
        "\n",
        "#arrayリストを全表示\n",
        "print(array)\n",
        "\n",
        "#dictionaryディクショナリーの初期化\n",
        "dictionary = {\"mon\":\"晴れ\", \"tue\":\"雨\", \"wed\":\"晴れ\", \"thu\":\"晴れ\", \"fri\":\"曇り\", \"sat\":\"曇りのち雨\", \"sun\":\"雷雨\"}\n",
        "\n",
        "#dictionaryを全表示\n",
        "print(dictionary)\n",
        "\n",
        "#dictionary[\"mon\"]の文字列を更新\n",
        "dictionary[\"mon\"] = \"雨\"\n",
        "\n",
        "#dictionary[\"mon\"]を表示\n",
        "print(dictionary[\"mon\"])\n",
        "\n",
        "#dictionary[\"weekend\"]を追加し、値は台風を代入\n",
        "dictionary[\"weekend\"] = \"台風\"\n",
        "\n",
        "#dictionaryを全表示\n",
        "print(dictionary)\n",
        "\n",
        "#dictionaryキー\"weekend\"を削除\n",
        "dictionary.pop(\"weekend\")\n",
        "\n",
        "#dictionaryを全表示\n",
        "print(dictionary)\n",
        "\n",
        "#dictionaryを全表示\n",
        "print(dictionary[\"wed\"])\n"
      ],
      "metadata": {
        "colab": {
          "base_uri": "https://localhost:8080/"
        },
        "id": "55ROVt8Dr5-P",
        "outputId": "44733621-6671-4ce7-b966-9635bf929a19"
      },
      "execution_count": 4,
      "outputs": [
        {
          "output_type": "stream",
          "name": "stdout",
          "text": [
            "水曜日は晴れです\n",
            "['月曜日は晴れです', '火曜日は雨です', '水曜日は晴れです', '木曜日は晴れです', '金曜日は曇りです', '土曜日は曇りのち雨です', '日曜日は雷雨です']\n",
            "['月曜日は晴れです', '火曜日は雨です', '水曜日は晴れです', '木曜日は晴れです', '金曜日は曇りです', '土曜日は曇りのち雨です']\n",
            "['月曜日は晴れです', '火曜日は雨です', '水曜日は晴れです', '木曜日は晴れです', '金曜日は曇りです', '土曜日は曇りのち雨です', '日曜日は雷雨です']\n",
            "['月曜日は雨です', '火曜日は雨です', '水曜日は晴れです', '木曜日は晴れです', '金曜日は曇りです', '土曜日は曇りのち雨です', '日曜日は雷雨です']\n",
            "{'mon': '晴れ', 'tue': '雨', 'wed': '晴れ', 'thu': '晴れ', 'fri': '曇り', 'sat': '曇りのち雨', 'sun': '雷雨'}\n",
            "雨\n",
            "{'mon': '雨', 'tue': '雨', 'wed': '晴れ', 'thu': '晴れ', 'fri': '曇り', 'sat': '曇りのち雨', 'sun': '雷雨', 'weekend': '台風'}\n",
            "{'mon': '雨', 'tue': '雨', 'wed': '晴れ', 'thu': '晴れ', 'fri': '曇り', 'sat': '曇りのち雨', 'sun': '雷雨'}\n",
            "晴れ\n"
          ]
        }
      ]
    }
  ]
}