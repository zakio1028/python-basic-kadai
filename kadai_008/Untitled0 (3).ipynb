{
  "nbformat": 4,
  "nbformat_minor": 0,
  "metadata": {
    "colab": {
      "provenance": []
    },
    "kernelspec": {
      "name": "python3",
      "display_name": "Python 3"
    },
    "language_info": {
      "name": "python"
    }
  },
  "cells": [
    {
      "cell_type": "code",
      "source": [
        "#ランダムな整数を利用するために、randomモジュールをインポート\n",
        "import random\n",
        "\n",
        "# 変数varに0～4までのランダムな整数を代入する\n",
        "var = random.randint(1, 999)\n",
        "\n",
        "var = 22\n",
        "print(f\"{var}の倍数を判定する。\")\n",
        "\n",
        "\n",
        "#変数varの倍数を判定する。\n",
        "if var % 3 == 0:\n",
        "  print(\"Fizz\")\n",
        "\n",
        "if var % 5 == 0:\n",
        "  print(\"Buzz\")\n",
        "\n",
        "if var % 3 == 0 and var % 5 ==0:\n",
        "  print(\"FizzBuzz\")\n",
        "\n",
        "else:\n",
        "  print(var)"
      ],
      "metadata": {
        "colab": {
          "base_uri": "https://localhost:8080/"
        },
        "id": "55ROVt8Dr5-P",
        "outputId": "dab2d879-85dd-4c62-9e23-7d05486310b0"
      },
      "execution_count": 61,
      "outputs": [
        {
          "output_type": "stream",
          "name": "stdout",
          "text": [
            "22の倍数を判定する。\n",
            "22\n"
          ]
        }
      ]
    }
  ]
}