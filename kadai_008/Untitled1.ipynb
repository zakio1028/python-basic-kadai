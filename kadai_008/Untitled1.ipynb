{
  "nbformat": 4,
  "nbformat_minor": 0,
  "metadata": {
    "colab": {
      "provenance": []
    },
    "kernelspec": {
      "name": "python3",
      "display_name": "Python 3"
    },
    "language_info": {
      "name": "python"
    }
  },
  "cells": [
    {
      "cell_type": "code",
      "execution_count": 60,
      "metadata": {
        "colab": {
          "base_uri": "https://localhost:8080/"
        },
        "id": "jlrc1mzjnQU_",
        "outputId": "6151723c-3a0d-4bca-be5a-7f6fc7b71b6c"
      },
      "outputs": [
        {
          "output_type": "stream",
          "name": "stdout",
          "text": [
            "979の倍数を判定する。\n",
            "979\n"
          ]
        }
      ],
      "source": [
        "#ランダムな整数を利用するために、randomモジュールをインポート\n",
        "import random\n",
        "\n",
        "# 変数varに0～4までのランダムな整数を代入する\n",
        "var = random.randint(0, 999)\n",
        "\n",
        "\n",
        "print(f\"{var}の倍数を判定する。\")\n",
        "\n",
        "\n",
        "#変数varの倍数を判定する。\n",
        "if var % 3 == 0 and var % 15 != 0:\n",
        "  print(\"Fizz\")\n",
        "\n",
        "elif var % 5 == 0 and var % 15 != 0:\n",
        "  print(\"Buzz\")\n",
        "\n",
        "elif var % 15 == 0:\n",
        "  print(\"FizzBuzz\")\n",
        "\n",
        "else:\n",
        "  print(var)"
      ]
    }
  ]
}