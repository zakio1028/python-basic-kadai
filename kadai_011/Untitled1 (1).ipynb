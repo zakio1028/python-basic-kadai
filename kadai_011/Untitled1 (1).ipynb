{
  "nbformat": 4,
  "nbformat_minor": 0,
  "metadata": {
    "colab": {
      "provenance": []
    },
    "kernelspec": {
      "name": "python3",
      "display_name": "Python 3"
    },
    "language_info": {
      "name": "python"
    }
  },
  "cells": [
    {
      "cell_type": "code",
      "source": [
        "array = [\"水\",\"金\",\"地\",\"火\",\"木\",\"土\",\"天\",\"海\",\"冥\"]\n",
        "\n",
        "#for文での配列の値を表示\n",
        "for value in array:\n",
        "  print(value)\n",
        "\n",
        "#カウンタiの初期化\n",
        "i = 0\n",
        "\n",
        "#while文での配列の値を表示\n",
        "#len()関数で配列のインデックス長さを取得\n",
        "while i < len(array):\n",
        "\n",
        "  #array[i]を表示\n",
        "  print(array[i])\n",
        "\n",
        "  #インデックスを1進める。\n",
        "  i+= 1\n",
        "\n",
        "  #最後のインデックスに達したら終了\n",
        "  if i == len(array):\n",
        "    break"
      ],
      "metadata": {
        "colab": {
          "base_uri": "https://localhost:8080/"
        },
        "id": "5UPjtUnfumWJ",
        "outputId": "087fa40a-c941-4969-ecad-117913dab7f7"
      },
      "execution_count": 99,
      "outputs": [
        {
          "output_type": "stream",
          "name": "stdout",
          "text": [
            "水\n",
            "金\n",
            "地\n",
            "火\n",
            "木\n",
            "土\n",
            "天\n",
            "海\n",
            "冥\n",
            "水\n",
            "金\n",
            "地\n",
            "火\n",
            "木\n",
            "土\n",
            "天\n",
            "海\n",
            "冥\n"
          ]
        }
      ]
    }
  ]
}