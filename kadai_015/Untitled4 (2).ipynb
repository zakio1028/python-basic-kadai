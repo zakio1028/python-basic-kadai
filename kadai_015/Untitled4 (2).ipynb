{
  "nbformat": 4,
  "nbformat_minor": 0,
  "metadata": {
    "colab": {
      "provenance": []
    },
    "kernelspec": {
      "name": "python3",
      "display_name": "Python 3"
    },
    "language_info": {
      "name": "python"
    }
  },
  "cells": [
    {
      "cell_type": "code",
      "execution_count": 1,
      "metadata": {
        "colab": {
          "base_uri": "https://localhost:8080/"
        },
        "id": "UPXCLAB9-RGJ",
        "outputId": "6ba0f286-0e7b-44ef-8b09-262d4ec98d36"
      },
      "outputs": [
        {
          "output_type": "stream",
          "name": "stdout",
          "text": [
            "ひでお\n",
            "19\n"
          ]
        }
      ],
      "source": [
        "class Human:\n",
        "    def __init__(self):\n",
        "        self.name = \"ひでお\"\n",
        "        self.age = 19\n",
        "\n",
        "    def printinfo(self):\n",
        "        print(self.name)\n",
        "        print(self.age)\n",
        "\n",
        "# インスタンス化する\n",
        "young_man = Human()\n",
        "\n",
        "# メソッドにアクセスして実行する\n",
        "young_man.printinfo()\n"
      ]
    }
  ]
}