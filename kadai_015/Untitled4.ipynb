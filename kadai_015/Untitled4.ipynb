{
  "nbformat": 4,
  "nbformat_minor": 0,
  "metadata": {
    "colab": {
      "provenance": []
    },
    "kernelspec": {
      "name": "python3",
      "display_name": "Python 3"
    },
    "language_info": {
      "name": "python"
    }
  },
  "cells": [
    {
      "cell_type": "code",
      "execution_count": 28,
      "metadata": {
        "colab": {
          "base_uri": "https://localhost:8080/"
        },
        "id": "UPXCLAB9-RGJ",
        "outputId": "90c8228d-4727-4fb4-92da-59bc365edc62"
      },
      "outputs": [
        {
          "output_type": "stream",
          "name": "stdout",
          "text": [
            "ひでお\n",
            "19\n"
          ]
        }
      ],
      "source": [
        "class Human:\n",
        "    def __init__(self):\n",
        "        self.name = \"\"\n",
        "        self.age = int\n",
        "\n",
        "    # メソッドを定義する\n",
        "    def set_info(self, name, age):\n",
        "        self.name = name\n",
        "        self.age = age\n",
        "\n",
        "    def print_info(self):\n",
        "        print(self.name)\n",
        "        print(self.age)\n",
        "\n",
        "# インスタンス化する\n",
        "young_man = Human()\n",
        "\n",
        "# メソッドにアクセスして実行する\n",
        "young_man.set_info(\"ひでお\",19)\n",
        "\n",
        "young_man.print_info()\n",
        "\n",
        "\n"
      ]
    }
  ]
}