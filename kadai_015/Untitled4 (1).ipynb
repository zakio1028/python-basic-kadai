{
  "nbformat": 4,
  "nbformat_minor": 0,
  "metadata": {
    "colab": {
      "provenance": []
    },
    "kernelspec": {
      "name": "python3",
      "display_name": "Python 3"
    },
    "language_info": {
      "name": "python"
    }
  },
  "cells": [
    {
      "cell_type": "code",
      "execution_count": 13,
      "metadata": {
        "colab": {
          "base_uri": "https://localhost:8080/"
        },
        "id": "UPXCLAB9-RGJ",
        "outputId": "7e1c75e3-7d53-495e-cfbb-c5838a1f3d0d"
      },
      "outputs": [
        {
          "output_type": "stream",
          "name": "stdout",
          "text": [
            "ひでお\n",
            "19\n"
          ]
        }
      ],
      "source": [
        "class Human:\n",
        "    def __init__(self):\n",
        "        self.name = \"\"\n",
        "        self.age = int\n",
        "\n",
        "    def printinfo(self, name, age):\n",
        "        self.name = name\n",
        "        self.age = age\n",
        "        print(self.name)\n",
        "        print(self.age)\n",
        "\n",
        "# インスタンス化する\n",
        "young_man = Human()\n",
        "\n",
        "# メソッドにアクセスして実行する\n",
        "young_man.printinfo(\"ひでお\", 19)\n"
      ]
    }
  ]
}