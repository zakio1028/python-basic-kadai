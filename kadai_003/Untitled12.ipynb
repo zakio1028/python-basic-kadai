{
  "nbformat": 4,
  "nbformat_minor": 0,
  "metadata": {
    "colab": {
      "provenance": []
    },
    "kernelspec": {
      "name": "python3",
      "display_name": "Python 3"
    },
    "language_info": {
      "name": "python"
    }
  },
  "cells": [
    {
      "cell_type": "code",
      "execution_count": 12,
      "metadata": {
        "colab": {
          "base_uri": "https://localhost:8080/"
        },
        "id": "JReTTb88axyY",
        "outputId": "40839e03-7082-49bb-e96d-1fbd38309fa0"
      },
      "outputs": [
        {
          "output_type": "stream",
          "name": "stdout",
          "text": [
            "[[ 4  5  6  7]\n",
            " [12 17 22 27]\n",
            " [20 29 38 47]]\n",
            "47\n"
          ]
        }
      ],
      "source": [
        "import numpy as np\n",
        "\n",
        "A = np.array([[0, 1],[2, 3],[4,5]])\n",
        "#print(A)\n",
        "B = np.array([[0, 1, 2, 3],[4, 5, 6, 7]])\n",
        "#print(B)\n",
        "\n",
        "C = np.dot(A,B)\n",
        "\n",
        "print(C)\n",
        "\n",
        "print(C.max())"
      ]
    }
  ]
}