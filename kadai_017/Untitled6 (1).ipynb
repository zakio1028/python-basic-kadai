{
  "nbformat": 4,
  "nbformat_minor": 0,
  "metadata": {
    "colab": {
      "provenance": []
    },
    "kernelspec": {
      "name": "python3",
      "display_name": "Python 3"
    },
    "language_info": {
      "name": "python"
    }
  },
  "cells": [
    {
      "cell_type": "code",
      "execution_count": 62,
      "metadata": {
        "colab": {
          "base_uri": "https://localhost:8080/"
        },
        "id": "-g7IU_KvJ9BG",
        "outputId": "e8d5646d-d420-4ea3-9e92-5239efdb7b64"
      },
      "outputs": [
        {
          "output_type": "stream",
          "name": "stdout",
          "text": [
            "Bobは32歳なので大人です。\n",
            "Marryは13歳なので大人ではありません。\n",
            "Mikeは70歳なので大人です。\n",
            "Bobは26歳なので大人です。\n",
            "Marryは79歳なので大人です。\n",
            "Mikeは61歳なので大人です。\n"
          ]
        }
      ],
      "source": [
        "import random\n",
        "\n",
        "#Humanクラスを宣言\n",
        "class Human:\n",
        "\n",
        "  #属性を定義する。\n",
        "  def __init__(self, name, age):\n",
        "    self.name = name\n",
        "    self.age = age\n",
        "\n",
        "  #メソッドを定義する。\n",
        "  def check_adult(self):\n",
        "    #20歳以上かを判定し、表示を行う。\n",
        "    if self.age >= 20:\n",
        "      print(f\"{self.name}は{self.age}歳なので大人です。\")\n",
        "    else:\n",
        "      print(f\"{self.name}は{self.age}歳なので大人ではありません。\")\n",
        "\n",
        "\n",
        "#namesリストを宣言\n",
        "names = [\"Bob\", \"Marry\", \"Mike\"]\n",
        "\n",
        "#インスタンスを生成\n",
        "humans = []\n",
        "\n",
        "#ageを1~100までをランダムで表示を行う。namesのインデックスの数だけループ\n",
        "for name in names:\n",
        "  age = random.randint(1,100)\n",
        "\n",
        "  #namesリストをインスタンス化\n",
        "  person = Human(name,age)\n",
        "  person.check_adult()\n",
        "\n",
        "#ageを1~100までをランダムで表示を行う。namesのインデックスの数だけループ\n",
        "i = 0\n",
        "while i < len(names):\n",
        "  age = random.randint(1,100)\n",
        "  person = Human(names[i],age)\n",
        "  person.check_adult()\n",
        "  i+=1\n",
        "  if i == len(names):\n",
        "    break"
      ]
    }
  ]
}