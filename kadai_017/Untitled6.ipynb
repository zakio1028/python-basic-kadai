{
  "nbformat": 4,
  "nbformat_minor": 0,
  "metadata": {
    "colab": {
      "provenance": []
    },
    "kernelspec": {
      "name": "python3",
      "display_name": "Python 3"
    },
    "language_info": {
      "name": "python"
    }
  },
  "cells": [
    {
      "cell_type": "code",
      "execution_count": 54,
      "metadata": {
        "colab": {
          "base_uri": "https://localhost:8080/"
        },
        "id": "-g7IU_KvJ9BG",
        "outputId": "ddd69ecb-f7cf-4cee-df0f-60e954852eaf"
      },
      "outputs": [
        {
          "output_type": "stream",
          "name": "stdout",
          "text": [
            "Bobは95歳なので大人です。\n",
            "Marryは57歳なので大人です。\n",
            "Mikeは71歳なので大人です。\n",
            "Bobは66歳なので大人です。\n",
            "Marryは95歳なので大人です。\n",
            "Mikeは87歳なので大人です。\n"
          ]
        }
      ],
      "source": [
        "import random\n",
        "\n",
        "#Humanクラスを宣言\n",
        "class Human:\n",
        "\n",
        "  #属性を定義する。\n",
        "  def __init__(self):\n",
        "    self.name = \"\"\n",
        "    self.age = int\n",
        "\n",
        "  #メソッドを定義する。\n",
        "  def check_adult(self, name, age):\n",
        "    self.name = name\n",
        "    self.age = age\n",
        "\n",
        "    #20歳以上かを判定し、表示を行う。\n",
        "    if self.age >= 20:\n",
        "      print(f\"{self.name}は{self.age}歳なので大人です。\")\n",
        "    else:\n",
        "      print(f\"{self.name}は{self.age}歳なので大人ではありません。\")\n",
        "\n",
        "#インスタンスを生成\n",
        "human = Human()\n",
        "\n",
        "#namesリストを宣言\n",
        "names = [\"Bob\", \"Marry\", \"Mike\"]\n",
        "\n",
        "#ageを1~100までをランダムで表示を行う。namesのインデックスの数だけループ\n",
        "for i in range(len(names)):\n",
        "  age = random.randint(1,100)\n",
        "  human.check_adult(names[i], age)\n",
        "\n",
        "#ageを1~100までをランダムで表示を行う。namesのインデックスの数だけループ\n",
        "i = 0\n",
        "while i < len(names):\n",
        "  age = random.randint(1,100)\n",
        "  human.check_adult(names[i], age)\n",
        "  i+=1\n",
        "  if i == len(names):\n",
        "    break"
      ]
    }
  ]
}