{
  "nbformat": 4,
  "nbformat_minor": 0,
  "metadata": {
    "colab": {
      "provenance": []
    },
    "kernelspec": {
      "name": "python3",
      "display_name": "Python 3"
    },
    "language_info": {
      "name": "python"
    }
  },
  "cells": [
    {
      "cell_type": "code",
      "execution_count": 9,
      "metadata": {
        "colab": {
          "base_uri": "https://localhost:8080/"
        },
        "id": "ez_v6wJq4Fmy",
        "outputId": "99bb554c-e968-4698-fae2-e1bd757e1f41"
      },
      "outputs": [
        {
          "output_type": "stream",
          "name": "stdout",
          "text": [
            "121.0\n"
          ]
        }
      ],
      "source": [
        "def cul_tax(price, tax_rate):\n",
        "    inc_price = price * (1 + tax_rate / 100)\n",
        "    return round(inc_price, 2)  # 小数第2位まで四捨五入\n",
        "\n",
        "print(cul_tax(110, 10))"
      ]
    }
  ]
}